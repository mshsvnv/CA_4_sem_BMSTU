{
 "cells": [
  {
   "attachments": {},
   "cell_type": "markdown",
   "metadata": {},
   "source": [
    "### Task1\n",
    "Solve system of nonlinear equations:\n",
    "\n",
    "$$x^2+y^2+z^2=1$$\n",
    "$$2x^2+y^2-4z=0$$\n",
    "$$3x^2-4y+z^2=0$$"
   ]
  },
  {
   "cell_type": "code",
   "execution_count": 18,
   "metadata": {},
   "outputs": [],
   "source": [
    "# %matplotlib inline\n",
    "\n",
    "# from mpl_toolkits.mplot3d import Axes3D\n",
    "# import matplotlib.pyplot as plt\n",
    "# import numpy as np\n",
    "\n",
    "# import numpy as np\n",
    "\n",
    "# def f_1(x, y):\n",
    "#     return np.sqrt(np.ones(x.shape) - np.power(x, 2) - np.power(y, 2))\n",
    "\n",
    "# def f_2(x, y):\n",
    "#     return (2 * np.power(x, 2) + np.power(y, 2)) / 4\n",
    "\n",
    "# def f_3(x, y):\n",
    "#     return np.sqrt(-3 * np.power(x, 2) + 4 * np.power(y, 2))\n",
    "\n",
    "# fig = plt.figure()\n",
    "# ax = fig.add_subplot(111, projection='3d')\n",
    "\n",
    "# u = np.linspace(0, 2 * np.pi, 50)\n",
    "# v = np.linspace(0, np.pi, 50)\n",
    "\n",
    "# x = np.outer(np.cos(u), np.sin(v))\n",
    "# y = np.outer(np.sin(u), np.sin(v))\n",
    "# z = np.outer(np.ones(np.size(u)), np.cos(v))\n",
    "# ax.plot_surface(x, y, z, linewidth=0.0, cstride=2, rstride=2)\n",
    "\n",
    "# x = np.arange(-3, 3, 0.05)\n",
    "# y = np.arange(-3, 3, 0.05)\n",
    "# x, y = np.meshgrid(x, y)\n",
    "# z = np.array(f_2(x.ravel(), y.ravel()))\n",
    "# z = z.reshape(x.shape)\n",
    "# ax.plot_surface(x, y, z, color='r')\n",
    "\n",
    "# x = np.arange(-3, 3, 0.05)\n",
    "# y = np.arange(0, 3, 0.05)\n",
    "# x, y = np.meshgrid(x, y)\n",
    "# z = np.array(f_3(x.ravel(), y.ravel()))\n",
    "# z = z.reshape(x.shape)\n",
    "# ax.plot_surface(x, y, z, color='g')"
   ]
  },
  {
   "cell_type": "code",
   "execution_count": 2,
   "metadata": {},
   "outputs": [
    {
     "name": "stdout",
     "output_type": "stream",
     "text": [
      "Answer is x: 0.78521\n",
      "          y: 0.49661\n",
      "          z: 0.36992\n",
      "\n"
     ]
    }
   ],
   "source": [
    "import sympy as sym\n",
    "import numpy as np\n",
    "from scipy.linalg import solve\n",
    "\n",
    "def Newton(F, Jacobian):\n",
    "\n",
    "    eps = 1e-3\n",
    "    \n",
    "    curValues = np.array([0.5, 0.5, 0.5], dtype=\"float\")\n",
    "\n",
    "    FCur = F(*curValues)\n",
    "    JacobianCur = Jacobian(*curValues)\n",
    "\n",
    "    delta = solve(JacobianCur, FCur).reshape((3, ))\n",
    "    curValues += delta\n",
    "    \n",
    "    while np.linalg.norm(delta) > eps:\n",
    "        \n",
    "        curValues -= delta\n",
    "\n",
    "        FCur = F(*curValues)\n",
    "        JacobianCur = Jacobian(*curValues)\n",
    "\n",
    "        delta = solve(JacobianCur, FCur).reshape((3, ))\n",
    "\n",
    "    return curValues\n",
    "\n",
    "vars = ['x', 'y', 'z']\n",
    "funcs = ['x ** 2 + y ** 2 + z ** 2 - 1',\n",
    "         '2 * x ** 2 + y ** 2 - 4 * z',\n",
    "         '3 * x ** 2 - 4 * y + z ** 2']\n",
    "\n",
    "F = sym.Matrix(funcs)\n",
    "Jacobian = sym.Matrix(funcs).jacobian(vars)\n",
    "\n",
    "Jacobian = sym.lambdify(sym.symbols(vars), Jacobian)\n",
    "F = sym.lambdify(sym.symbols(vars), F)\n",
    "\n",
    "values = Newton(F, Jacobian)\n",
    "space = ' '\n",
    "\n",
    "print(f\"Answer is x: {values[0]:.5f}\\n{space:>10}y: {values[1]:.5f}\\n{space:>10}z: {values[2]:.5f}\\n\")"
   ]
  },
  {
   "attachments": {},
   "cell_type": "markdown",
   "metadata": {},
   "source": [
    "### Task2\n",
    "Given the value of the Laplace function, find its argument x\n",
    "$$ Ф(x) = \\frac{1}{\\sqrt{2\\pi}}\\int_0^x e^{\\frac{-t^2}{2}} dt $$"
   ]
  },
  {
   "cell_type": "code",
   "execution_count": 27,
   "metadata": {},
   "outputs": [
    {
     "name": "stdout",
     "output_type": "stream",
     "text": [
      "Current argument for 0.30000 is: 0.85000\n"
     ]
    }
   ],
   "source": [
    "import math\n",
    "\n",
    "def f(x):\n",
    "    return (1 / math.sqrt(2 * math.pi)) * math.exp(-(x ** 2) / 2)\n",
    "\n",
    "def simpson(xCur):\n",
    "    steps = 100\n",
    "    step = xCur / (steps * 2)\n",
    "\n",
    "    xValues = np.array([i * step for i in range(steps * 2 + 1)])\n",
    "    funcValues = np.array([f(x_i) for x_i in xValues])\n",
    "\n",
    "    sumX1 = 4 * np.sum([funcValues[2 * i - 1] for i in range(1, steps)])\n",
    "    sumX2 = 2 * np.sum([funcValues[2 * i] for i in range(1, steps - 1)])\n",
    "\n",
    "    return (step / 3) * (funcValues[0] + funcValues[-1] + sumX1 + sumX2)\n",
    "\n",
    "def calculate(fValueCur):\n",
    "    xCur = 0\n",
    "    eps = 1e-5\n",
    "\n",
    "    while simpson(xCur) < fValueCur:\n",
    "        xCur += 0.01\n",
    "\n",
    "    return xCur - 0.01\n",
    "\n",
    "fValueCur = float(input(\"\\nEnter current value of Laplace function: \"))\n",
    "\n",
    "if 0 <= fValueCur <= 1/2:\n",
    "    ans = calculate(fValueCur)\n",
    "    print(f\"Current argument for {fValueCur:.5f} is: {ans:.5f}\")\n",
    "else:\n",
    "    print(\"Wrong input function value!\")"
   ]
  },
  {
   "attachments": {},
   "cell_type": "markdown",
   "metadata": {},
   "source": [
    "### Task3\n",
    "Solve numerically the boundary value problem for the differential equation\n",
    "$${y''-y^3=x^2}$$\n",
    "$$0<=x<=1$$\n",
    "$$x=0, y=1$$\n",
    "$$x=1, y=3$$"
   ]
  },
  {
   "cell_type": "code",
   "execution_count": null,
   "metadata": {},
   "outputs": [],
   "source": [
    "import sympy as sym\n",
    "\n",
    "start = np.array([0, 1])\n",
    "end = np.array([1, 3])\n",
    "\n",
    "N = 100\n",
    "\n",
    "grid = np.linspace(0, end[0], N)\n",
    "\n"
   ]
  }
 ],
 "metadata": {
  "kernelspec": {
   "display_name": "Python 3",
   "language": "python",
   "name": "python3"
  },
  "language_info": {
   "codemirror_mode": {
    "name": "ipython",
    "version": 3
   },
   "file_extension": ".py",
   "mimetype": "text/x-python",
   "name": "python",
   "nbconvert_exporter": "python",
   "pygments_lexer": "ipython3",
   "version": "3.10.6"
  },
  "orig_nbformat": 4
 },
 "nbformat": 4,
 "nbformat_minor": 2
}
