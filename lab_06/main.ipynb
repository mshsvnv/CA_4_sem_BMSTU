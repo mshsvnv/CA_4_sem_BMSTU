{
 "cells": [
  {
   "attachments": {},
   "cell_type": "markdown",
   "metadata": {},
   "source": [
    "# Laboratory №6\n",
    "\n",
    "## Task 1\n"
   ]
  },
  {
   "cell_type": "code",
   "execution_count": null,
   "metadata": {},
   "outputs": [],
   "source": []
  },
  {
   "attachments": {},
   "cell_type": "markdown",
   "metadata": {},
   "source": [
    "## Task 2"
   ]
  },
  {
   "cell_type": "code",
   "execution_count": 1,
   "metadata": {},
   "outputs": [],
   "source": [
    "import numpy as np\n",
    "import prettytable as pt\n",
    "\n",
    "N = 6\n",
    "\n",
    "def leftDiffDer(yValue, step, index):\n",
    "    if index > 0 and index < len(yValue):\n",
    "        return (yValue[index] - yValue[index - 1]) / step\n",
    "    else:\n",
    "        return '---'\n",
    "\n",
    "def centerDiffDer(yValue, step, index):\n",
    "    if index > 0 and index < len(yValue) - 1:\n",
    "        return (yValue[index + 1] - yValue[index - 1]) / (2 * step)\n",
    "    else:\n",
    "        return '---'\n",
    "\n",
    "def secondRunge(yValue, step, index):\n",
    "    if index < 2:\n",
    "        return '---'\n",
    "        \n",
    "    f1 = leftDiffDer(yValue, step, index)\n",
    "    f2 = (yValue[index] - yValue[index - 2]) / (2 * step)\n",
    "\n",
    "    return 2 * f1 - f2\n",
    "\n",
    "def aligVars(yValue, xValue, index):\n",
    "    if index > len(yValue) - 2:\n",
    "        return ' ---'\n",
    "\n",
    "    d = (1 / yValue[index + 1] - 1 / yValue[index]) / \\\n",
    "        (1 / xValue[index + 1] - 1 / xValue[index])\n",
    "\n",
    "    return d * yValue[index] ** 2 / xValue[index] ** 2\n",
    "\n",
    "def secondDiffDer(yValue, step, index):\n",
    "    if index > 0 and index < len(yValue) - 1:\n",
    "        return (yValue[index - 1] - 2 * yValue[index] + yValue[index + 1]) / step ** 2\n",
    "    else:\n",
    "        return ' ---'\n",
    "\n",
    "xArr = [1, 2, 3, 4, 5, 6]\n",
    "yArr = [0.571, 0.889, 1.091, 1.231, 1.333, 1.412]\n",
    "    \n",
    "step = (xArr[0] - xArr[1]) / len(xArr)\n",
    "\n",
    "methods = [leftDiffDer, centerDiffDer, \n",
    "           secondRunge, aligVars, \n",
    "           secondDiffDer]"
   ]
  },
  {
   "cell_type": "code",
   "execution_count": 2,
   "metadata": {},
   "outputs": [
    {
     "ename": "TypeError",
     "evalue": "'float' object is not subscriptable",
     "output_type": "error",
     "traceback": [
      "\u001b[1;31m---------------------------------------------------------------------------\u001b[0m",
      "\u001b[1;31mTypeError\u001b[0m                                 Traceback (most recent call last)",
      "Cell \u001b[1;32mIn[2], line 11\u001b[0m\n\u001b[0;32m      9\u001b[0m         table\u001b[39m.\u001b[39madd_column([ff(methods[i](yArr, xArr, i)) \u001b[39mfor\u001b[39;00m i \u001b[39min\u001b[39;00m \u001b[39mrange\u001b[39m(N)])\n\u001b[0;32m     10\u001b[0m     \u001b[39melse\u001b[39;00m:    \n\u001b[1;32m---> 11\u001b[0m         table\u001b[39m.\u001b[39madd_column([ff(methods[i](yArr, step, i)) \u001b[39mfor\u001b[39;00m i \u001b[39min\u001b[39;00m \u001b[39mrange\u001b[39m(N)])\n\u001b[0;32m     13\u001b[0m \u001b[39mprint\u001b[39m(table)\n",
      "Cell \u001b[1;32mIn[2], line 11\u001b[0m, in \u001b[0;36m<listcomp>\u001b[1;34m(.0)\u001b[0m\n\u001b[0;32m      9\u001b[0m         table\u001b[39m.\u001b[39madd_column([ff(methods[i](yArr, xArr, i)) \u001b[39mfor\u001b[39;00m i \u001b[39min\u001b[39;00m \u001b[39mrange\u001b[39m(N)])\n\u001b[0;32m     10\u001b[0m     \u001b[39melse\u001b[39;00m:    \n\u001b[1;32m---> 11\u001b[0m         table\u001b[39m.\u001b[39madd_column([ff(methods[i](yArr, step, i)) \u001b[39mfor\u001b[39;00m i \u001b[39min\u001b[39;00m \u001b[39mrange\u001b[39m(N)])\n\u001b[0;32m     13\u001b[0m \u001b[39mprint\u001b[39m(table)\n",
      "Cell \u001b[1;32mIn[1], line 32\u001b[0m, in \u001b[0;36maligVars\u001b[1;34m(yValue, xValue, index)\u001b[0m\n\u001b[0;32m     28\u001b[0m \u001b[39mif\u001b[39;00m index \u001b[39m>\u001b[39m \u001b[39mlen\u001b[39m(yValue) \u001b[39m-\u001b[39m \u001b[39m2\u001b[39m:\n\u001b[0;32m     29\u001b[0m     \u001b[39mreturn\u001b[39;00m \u001b[39m'\u001b[39m\u001b[39m ---\u001b[39m\u001b[39m'\u001b[39m\n\u001b[0;32m     31\u001b[0m d \u001b[39m=\u001b[39m (\u001b[39m1\u001b[39m \u001b[39m/\u001b[39m yValue[index \u001b[39m+\u001b[39m \u001b[39m1\u001b[39m] \u001b[39m-\u001b[39m \u001b[39m1\u001b[39m \u001b[39m/\u001b[39m yValue[index]) \u001b[39m/\u001b[39m \\\n\u001b[1;32m---> 32\u001b[0m     (\u001b[39m1\u001b[39m \u001b[39m/\u001b[39m xValue[index \u001b[39m+\u001b[39;49m \u001b[39m1\u001b[39;49m] \u001b[39m-\u001b[39m \u001b[39m1\u001b[39m \u001b[39m/\u001b[39m xValue[index])\n\u001b[0;32m     34\u001b[0m \u001b[39mreturn\u001b[39;00m d \u001b[39m*\u001b[39m yValue[index] \u001b[39m*\u001b[39m\u001b[39m*\u001b[39m \u001b[39m2\u001b[39m \u001b[39m/\u001b[39m xValue[index] \u001b[39m*\u001b[39m\u001b[39m*\u001b[39m \u001b[39m2\u001b[39m\n",
      "\u001b[1;31mTypeError\u001b[0m: 'float' object is not subscriptable"
     ]
    }
   ],
   "source": [
    "def ff(num):\n",
    "    return f\"num:.3f\"\n",
    "\n",
    "table = pt.PrettyTable()\n",
    "table.field_names = [\"X\", \"Y\", \"1\", \"2\", \"3\", \"4\", \"5\"]\n",
    "\n",
    "for i in range(len(methods)):\n",
    "    if i == 3:\n",
    "        table.add_column([ff(methods[i](yArr, xArr, i)) for i in range(N)])\n",
    "    else:    \n",
    "        table.add_column([ff(methods[i](yArr, step, i)) for i in range(N)])\n",
    "\n",
    "print(table)"
   ]
  }
 ],
 "metadata": {
  "kernelspec": {
   "display_name": "Python 3",
   "language": "python",
   "name": "python3"
  },
  "language_info": {
   "codemirror_mode": {
    "name": "ipython",
    "version": 3
   },
   "file_extension": ".py",
   "mimetype": "text/x-python",
   "name": "python",
   "nbconvert_exporter": "python",
   "pygments_lexer": "ipython3",
   "version": "3.10.6"
  },
  "orig_nbformat": 4
 },
 "nbformat": 4,
 "nbformat_minor": 2
}
