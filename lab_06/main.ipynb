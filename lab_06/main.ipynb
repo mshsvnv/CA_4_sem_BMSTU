{
 "cells": [
  {
   "attachments": {},
   "cell_type": "markdown",
   "metadata": {},
   "source": [
    "# Laboratory №6\n",
    "\n",
    "### Task 1\n",
    "\n",
    "$$ I = \\int\\int_0 f(x, y) dxdy $$"
   ]
  },
  {
   "cell_type": "code",
   "execution_count": 22,
   "metadata": {},
   "outputs": [
    {
     "name": "stdout",
     "output_type": "stream",
     "text": [
      "[[0.     0.     5.     4.0937 3.3516 2.7441 2.2466 1.8394 1.506  1.233\n",
      "  1.0095 0.8265 0.6767 0.554  0.4536]\n",
      " [0.1    0.1    3.7041 3.0327 2.4829 2.0328 1.6644 1.3627 1.1157 0.9134\n",
      "  0.7478 0.6123 0.5013 0.4104 0.336 ]\n",
      " [0.2    0.2    2.7441 2.2466 1.8394 1.506  1.233  1.0095 0.8265 0.6767\n",
      "  0.554  0.4536 0.3714 0.3041 0.2489]\n",
      " [0.3    0.3    2.0328 1.6644 1.3627 1.1157 0.9134 0.7478 0.6123 0.5013\n",
      "  0.4104 0.336  0.2751 0.2252 0.1844]\n",
      " [0.4    0.4    1.506  1.233  1.0095 0.8265 0.6767 0.554  0.4536 0.3714\n",
      "  0.3041 0.2489 0.2038 0.1669 0.1366]\n",
      " [0.5    0.5    1.1157 0.9134 0.7478 0.6123 0.5013 0.4104 0.336  0.2751\n",
      "  0.2252 0.1844 0.151  0.1236 0.1012]\n",
      " [0.6    0.6    0.8265 0.6767 0.554  0.4536 0.3714 0.3041 0.2489 0.2038\n",
      "  0.1669 0.1366 0.1119 0.0916 0.075 ]\n",
      " [0.7    0.7    0.6123 0.5013 0.4104 0.336  0.2751 0.2252 0.1844 0.151\n",
      "  0.1236 0.1012 0.0829 0.0678 0.0555]\n",
      " [0.8    0.8    0.4536 0.3714 0.3041 0.2489 0.2038 0.1669 0.1366 0.1119\n",
      "  0.0916 0.075  0.0614 0.0503 0.0411]\n",
      " [0.9    0.9    0.336  0.2751 0.2252 0.1844 0.151  0.1236 0.1012 0.0829\n",
      "  0.0678 0.0555 0.0455 0.0372 0.0305]\n",
      " [1.     1.     0.2489 0.2038 0.1669 0.1366 0.1119 0.0916 0.075  0.0614\n",
      "  0.0503 0.0411 0.0337 0.0276 0.0226]\n",
      " [1.1    1.1    0.1844 0.151  0.1236 0.1012 0.0829 0.0678 0.0555 0.0455\n",
      "  0.0372 0.0305 0.025  0.0204 0.0167]\n",
      " [1.2    1.2    0.1366 0.1119 0.0916 0.075  0.0614 0.0503 0.0411 0.0337\n",
      "  0.0276 0.0226 0.0185 0.0151 0.0124]]\n"
     ]
    }
   ],
   "source": [
    "import csv\n",
    "import numpy as np\n",
    "\n",
    "file = \"input.csv\"\n",
    "\n",
    "def readFromFile(file):\n",
    "\n",
    "    Table = []\n",
    "\n",
    "    with open(file) as f:\n",
    "        reader = csv.DictReader(f)\n",
    "\n",
    "        for row in reader:\n",
    "            Table.append(np.array(list(map(float, [*row.values()]))))\n",
    "\n",
    "    return Table\n",
    "\n",
    "Table = np.array(readFromFile(file))\n",
    "\n"
   ]
  },
  {
   "attachments": {},
   "cell_type": "markdown",
   "metadata": {},
   "source": [
    "### Task 2"
   ]
  },
  {
   "cell_type": "code",
   "execution_count": 46,
   "metadata": {},
   "outputs": [],
   "source": [
    "import numpy as np\n",
    "import prettytable as pt\n",
    "\n",
    "N = 6\n",
    "\n",
    "def formatOut(num):\n",
    "    return f\"{num:.5f}\"\n",
    "\n",
    "def leftDiffDer(yValue, step, index):\n",
    "    if index > 0 and index < len(yValue):\n",
    "        return formatOut((yValue[index] - yValue[index - 1]) / step)\n",
    "    else:\n",
    "        return '*'\n",
    "\n",
    "def centerDiffDer(yValue, step, index):\n",
    "    if index > 0 and index < len(yValue) - 1:\n",
    "        return formatOut((yValue[index + 1] - yValue[index - 1]) / (2 * step))\n",
    "    else:\n",
    "        return '*'\n",
    "\n",
    "def secondRunge(yValue, step, index):\n",
    "    if index < 2:\n",
    "        return '*'\n",
    "        \n",
    "    f1 = (yValue[index] - yValue[index - 1]) / (2 * step)\n",
    "    f2 = (yValue[index] - yValue[index - 2]) / (2 * step)\n",
    "\n",
    "    return formatOut(2 * f1 - f2)\n",
    "\n",
    "def aligVars(yValue, xValue, index):\n",
    "    if index > len(yValue) - 2:\n",
    "        return '*'\n",
    "\n",
    "    d = (1 / yValue[index + 1] - 1 / yValue[index]) / \\\n",
    "        (1 / xValue[index + 1] - 1 / xValue[index])\n",
    "\n",
    "    return formatOut(d * yValue[index] ** 2 / xValue[index] ** 2)\n",
    "\n",
    "def secondDiffDer(yValue, step, index):\n",
    "    if index > 0 and index < len(yValue) - 1:\n",
    "        return formatOut((yValue[index - 1] - 2 * yValue[index] + yValue[index + 1]) / step ** 2)\n",
    "    else:\n",
    "        return ' *'\n",
    "\n",
    "xArr = [1, 2, 3, 4, 5, 6]\n",
    "yArr = [0.571, 0.889, 1.091, 1.231, 1.333, 1.412]\n",
    "    \n",
    "step = (xArr[-1] - xArr[0]) / len(xArr)\n",
    "\n",
    "methods = [leftDiffDer, centerDiffDer, \n",
    "           secondRunge, aligVars, \n",
    "           secondDiffDer]"
   ]
  },
  {
   "cell_type": "code",
   "execution_count": 47,
   "metadata": {},
   "outputs": [
    {
     "name": "stdout",
     "output_type": "stream",
     "text": [
      "+---+-------+---------+---------+----------+---------+----------+\n",
      "| X |   Y   |    1    |    2    |    3     |    3    |    5     |\n",
      "+---+-------+---------+---------+----------+---------+----------+\n",
      "| 1 | 0.571 |    *    |    *    |    *     | 0.40850 |     *    |\n",
      "| 2 | 0.889 | 0.38160 | 0.31200 |    *     | 0.24690 | -0.16704 |\n",
      "| 3 | 1.091 | 0.24240 | 0.20520 | -0.06960 | 0.16544 | -0.08928 |\n",
      "| 4 | 1.231 | 0.16800 | 0.14520 | -0.03720 | 0.11774 | -0.05472 |\n",
      "| 5 | 1.333 | 0.12240 | 0.10860 | -0.02280 | 0.08950 | -0.03312 |\n",
      "| 6 | 1.412 | 0.09480 |    *    | -0.01380 |    *    |     *    |\n",
      "+---+-------+---------+---------+----------+---------+----------+\n"
     ]
    }
   ],
   "source": [
    "table = pt.PrettyTable()\n",
    "filedNames = [\"X\", \"Y\", \"1\", \"2\", \"3\", \"4\", \"5\"]\n",
    "\n",
    "table.add_column(filedNames[0], xArr)\n",
    "table.add_column(filedNames[1], yArr)\n",
    "\n",
    "for i in range(len(methods)):\n",
    "    if i == 3:\n",
    "        table.add_column(filedNames[i + 1], [methods[i](yArr, xArr, j) for j in range(N)])\n",
    "    else:    \n",
    "        table.add_column(filedNames[i + 2], [methods[i](yArr, step, j) for j in range(N)])\n",
    "\n",
    "print(table)"
   ]
  }
 ],
 "metadata": {
  "kernelspec": {
   "display_name": "Python 3",
   "language": "python",
   "name": "python3"
  },
  "language_info": {
   "codemirror_mode": {
    "name": "ipython",
    "version": 3
   },
   "file_extension": ".py",
   "mimetype": "text/x-python",
   "name": "python",
   "nbconvert_exporter": "python",
   "pygments_lexer": "ipython3",
   "version": "3.10.6"
  },
  "orig_nbformat": 4
 },
 "nbformat": 4,
 "nbformat_minor": 2
}
